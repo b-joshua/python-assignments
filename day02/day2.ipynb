{
 "cells": [
  {
   "cell_type": "code",
   "execution_count": 10,
   "metadata": {},
   "outputs": [],
   "source": [
    "width = 5\n",
    "length = 10\n",
    "radius = 20"
   ]
  },
  {
   "cell_type": "code",
   "execution_count": 11,
   "metadata": {},
   "outputs": [
    {
     "name": "stdout",
     "output_type": "stream",
     "text": [
      "rectangle area:  50\n",
      "circle area:  1256.0\n"
     ]
    }
   ],
   "source": [
    "# rectangle area\n",
    "print(\"rectangle area: \", width * length)\n",
    "\n",
    "# circle area\n",
    "print(\"circle area: \", 3.14 * (radius**2))"
   ]
  },
  {
   "cell_type": "code",
   "execution_count": 12,
   "metadata": {},
   "outputs": [
    {
     "name": "stdout",
     "output_type": "stream",
     "text": [
      "rectangle circumference:  30\n",
      "circle circumference:  125.60000000000001\n"
     ]
    }
   ],
   "source": [
    "# rectangle circumference\n",
    "print(\"rectangle circumference: \", 2*width + 2*length)\n",
    "\n",
    "# circle circumference\n",
    "print(\"circle circumference: \", 3.14 * radius * 2)"
   ]
  }
 ],
 "metadata": {
  "kernelspec": {
   "display_name": "Python 3",
   "language": "python",
   "name": "python3"
  },
  "language_info": {
   "codemirror_mode": {
    "name": "ipython",
    "version": 3
   },
   "file_extension": ".py",
   "mimetype": "text/x-python",
   "name": "python",
   "nbconvert_exporter": "python",
   "pygments_lexer": "ipython3",
   "version": "3.13.0"
  }
 },
 "nbformat": 4,
 "nbformat_minor": 2
}
